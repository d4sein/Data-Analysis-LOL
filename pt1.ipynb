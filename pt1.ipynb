{
 "cells": [
  {
   "cell_type": "code",
   "execution_count": 1,
   "metadata": {},
   "outputs": [],
   "source": [
    "import requests\n",
    "import time\n",
    "\n",
    "import pymongo"
   ]
  },
  {
   "cell_type": "code",
   "execution_count": 2,
   "metadata": {},
   "outputs": [],
   "source": [
    "TOKEN = 'TOKEN'\n",
    "PLATFORMS = ['BR1', 'EUN1', 'EUW1', 'JP1', 'KR', 'LA1', 'LA2', 'NA1', 'OC1', 'TR1', 'RU']\n",
    "TIERS = ['CHALLENGER', 'GRANDMASTER', 'MASTER', 'DIAMOND', 'PLATINUM', 'GOLD', 'SILVER', 'BRONZE', 'IRON']\n",
    "PLAYERS_COLLECTION = list()\n",
    "PLAYERS_EXCEPTIONS = list()"
   ]
  },
  {
   "cell_type": "code",
   "execution_count": 3,
   "metadata": {},
   "outputs": [],
   "source": [
    "client = pymongo.MongoClient('localhost', 27017)\n",
    "db = client['league']\n",
    "players_db = db['players']"
   ]
  },
  {
   "cell_type": "code",
   "execution_count": 4,
   "metadata": {},
   "outputs": [],
   "source": [
    "def get_players(platform: str, tier: str) -> None:\n",
    "    url = f'https://{platform}.api.riotgames.com/lol/league-exp/v4/entries/RANKED_SOLO_5x5/{tier}/I?page=1'\n",
    "    \n",
    "    time.sleep(1.2)\n",
    "    \n",
    "    try:\n",
    "        req = requests.get(url, headers={'X-Riot-Token': TOKEN})\n",
    "    except Exception as e:\n",
    "        print('CONNECTION ERROR')\n",
    "        return\n",
    "\n",
    "    counter = 0\n",
    "    players = req.json()\n",
    "\n",
    "    for player in players:\n",
    "        counter += 1\n",
    "        print(f'{counter}/{len(players)}', end='\\r')\n",
    "\n",
    "        summonerName = player['summonerName']\n",
    "        url = f'https://{platform}.api.riotgames.com/lol/summoner/v4/summoners/by-name/{summonerName}'\n",
    "\n",
    "        time.sleep(1.2)\n",
    "        \n",
    "        try:\n",
    "            accountId = requests.get(url, headers={'X-Riot-Token': TOKEN})\n",
    "        except Exception as e:\n",
    "            print('CONNECTION ERROR')\n",
    "            \n",
    "        if accountId.status_code == 200:\n",
    "            accountId = accountId.json()['accountId']\n",
    "\n",
    "            PLAYERS_COLLECTION.append(\n",
    "                {\n",
    "                    'accountId': accountId,\n",
    "                    'summonerName': summonerName,\n",
    "                    'tier': tier,\n",
    "                    'platform': platform\n",
    "                }\n",
    "            )\n",
    "\n",
    "        elif r.status_code == 429:\n",
    "            print('\\nRATE LIMIT EXCEEDED')\n",
    "            PLAYERS_EXCEPTIONS.append((summonerName, tier, platform))\n",
    "            time.sleep(8)\n",
    "        \n",
    "        elif r.status_code == 404:\n",
    "            print('\\nSUMMONER NOT FOUND')\n",
    "            ACCOUNT_IDS.remove(accountId)\n",
    "        \n",
    "        elif r.status_code == 403:\n",
    "            print('\\nINVALID TOKEN')\n",
    "            return\n",
    "        \n",
    "    print()"
   ]
  },
  {
   "cell_type": "code",
   "execution_count": 5,
   "metadata": {},
   "outputs": [],
   "source": [
    "def get_player_exceptions() -> None:\n",
    "    counter = 0\n",
    "    exceptions = PLAYERS_EXCEPTIONS.copy()\n",
    "    \n",
    "    for player in exceptions:\n",
    "        counter += 1\n",
    "        print(f'{counter}/{len(exceptions)}', end='\\r')\n",
    "\n",
    "        summonerName = player[0]\n",
    "        tier = player[1]\n",
    "        platform = player[2]\n",
    "        \n",
    "        url = f'https://{platform}.api.riotgames.com/lol/summoner/v4/summoners/by-name/{summonerName}'\n",
    "        \n",
    "        time.sleep(1.2)\n",
    "        \n",
    "        try:\n",
    "            accountId = requests.get(url, headers={'X-Riot-Token': TOKEN})\n",
    "        except Exception as e:            \n",
    "            print('CONNECTION ERROR')\n",
    "            PLAYERS_EXCEPTIONS.remove(player)\n",
    "            continue\n",
    "            \n",
    "        if accountId.status_code == 429:\n",
    "            time.sleep(8)\n",
    "            continue\n",
    "\n",
    "        accountId = accountId.json()['accountId']\n",
    "\n",
    "        PLAYERS_COLLECTION.append(\n",
    "            {\n",
    "                'accountId': accountId,\n",
    "                'summonerName': summonerName,\n",
    "                'tier': tier,\n",
    "                'platform': platform\n",
    "            }\n",
    "        )\n",
    "        \n",
    "        PLAYERS_EXCEPTIONS.remove(player)"
   ]
  },
  {
   "cell_type": "code",
   "execution_count": 6,
   "metadata": {
    "scrolled": true
   },
   "outputs": [],
   "source": [
    "for p in PLATFORMS:\n",
    "    for t in TIERS:\n",
    "        get_players(p, t)\n",
    "\n",
    "        while len(PLAYERS_EXCEPTIONS):\n",
    "            get_player_exceptions()\n",
    "\n",
    "        players_db.insert_many(PLAYERS_COLLECTION)\n",
    "        print(f'Added {len(PLAYERS_COLLECTION)} players to the database.')\n",
    "        \n",
    "        PLAYERS_COLLECTION = list()"
   ]
  }
 ],
 "metadata": {
  "kernelspec": {
   "display_name": "lol-analysis",
   "language": "python",
   "name": "lol-analysis"
  },
  "language_info": {
   "codemirror_mode": {
    "name": "ipython",
    "version": 3
   },
   "file_extension": ".py",
   "mimetype": "text/x-python",
   "name": "python",
   "nbconvert_exporter": "python",
   "pygments_lexer": "ipython3",
   "version": "3.7.3"
  }
 },
 "nbformat": 4,
 "nbformat_minor": 4
}
